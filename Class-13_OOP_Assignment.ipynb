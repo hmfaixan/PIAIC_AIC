{
  "metadata": {
    "language_info": {
      "codemirror_mode": {
        "name": "python",
        "version": 3
      },
      "file_extension": ".py",
      "mimetype": "text/x-python",
      "name": "python",
      "nbconvert_exporter": "python",
      "pygments_lexer": "ipython3",
      "version": "3.8"
    },
    "kernelspec": {
      "name": "python",
      "display_name": "Python (Pyodide)",
      "language": "python"
    }
  },
  "nbformat_minor": 4,
  "nbformat": 4,
  "cells": [
    {
      "cell_type": "markdown",
      "source": "Assignment: Class-13 (OOP)\n\nName: H. M. Faizan\nRoll No: PIAIC 189427\nBatch: 36 (Online)\nTeacher: Sir Qasim\n\n\nTask 1:\n1. import mother and father attribute\n2. add two new attributes in the child constructor\n\nTask2:\nCreate operator overloading",
      "metadata": {}
    },
    {
      "cell_type": "markdown",
      "source": "TASK-1:",
      "metadata": {}
    },
    {
      "cell_type": "code",
      "source": "class Father():\n    \n    def __init__(self):\n        self.name = Umer\n        self.fname = Muhammad        \n        self.hc = 'Black'\n        \n    def speak(self):\n        return \"Hahahah!\"\n    \n    \nclass Mother():\n    \n    def __init__(self):\n        self.height = '5.5 ft'\n        self.religion = 'Muslim'\n        \n    def silent(self):\n        return \"...\"\n    \nclass Child(Mother,Father):\n    def __init__(self):\n        Mother.__init__(self)\n        Father.__init__(self)\n        self.education = None \n        self.language = None\n        \n        \nc1 = Child()\nprint([i for i in dir(c1) if \"__\" not in i])",
      "metadata": {
        "trusted": true
      },
      "execution_count": null,
      "outputs": []
    },
    {
      "cell_type": "code",
      "source": "['education', 'fname', 'hc', 'height', 'language', 'name', 'religion', 'silent', 'speak']",
      "metadata": {},
      "execution_count": null,
      "outputs": []
    },
    {
      "cell_type": "markdown",
      "source": "TASK-2:",
      "metadata": {}
    },
    {
      "cell_type": "code",
      "source": "class TotalNumber ():\n    \n    def __init__(self,Num1 , Num2):\n        self.Item1 = Num1\n        self.Item2 = Num2\n        \n    def __add__(self,other):\n        Item1 = self.Item1 + other.Item1 \n        Item2 = self.Item2 + other.Item2\n        Total = TotalNumber(Item1 , Item2)\n        return Total\n    \n    def __str__(self):\n        return f\"Deal 1 Amount is {self.Item1} and Deal 2 Amount is {self.Item2}\"\n    \nDeal1 = TotalNumber(50,40)\nDeal2 = TotalNumber(100,300)\n\nprint(Deal1 + Deal2)",
      "metadata": {},
      "execution_count": null,
      "outputs": []
    }
  ]
}